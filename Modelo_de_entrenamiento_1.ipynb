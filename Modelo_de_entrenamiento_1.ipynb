{
  "nbformat": 4,
  "nbformat_minor": 0,
  "metadata": {
    "colab": {
      "name": "Modelo de entrenamiento #1.ipynb",
      "provenance": [],
      "collapsed_sections": []
    },
    "kernelspec": {
      "name": "python3",
      "display_name": "Python 3"
    },
    "language_info": {
      "name": "python"
    }
  },
  "cells": [
    {
      "cell_type": "markdown",
      "source": [
        "Importando las librerias necesarias para el modelo"
      ],
      "metadata": {
        "id": "nbwpD-3pAa1t"
      }
    },
    {
      "cell_type": "code",
      "execution_count": 3,
      "metadata": {
        "id": "OJmMV5FnAXNr"
      },
      "outputs": [],
      "source": [
        "import tensorflow as tf;\n",
        "import numpy as np;"
      ]
    },
    {
      "cell_type": "markdown",
      "source": [
        "Colocando entradas de grados celsius asi como los resultados de fahrenheit"
      ],
      "metadata": {
        "id": "AC7vrgt8AwuU"
      }
    },
    {
      "cell_type": "code",
      "source": [
        "celsius = np.array([-40, -10, -0, 8, 15, 22, 38], dtype=float);\n",
        "fahrenheit = np.array([-40, 14, 32, 46, 59, 72, 100], dtype=float);"
      ],
      "metadata": {
        "id": "6sdgEVrBA1gV"
      },
      "execution_count": 4,
      "outputs": []
    },
    {
      "cell_type": "markdown",
      "source": [
        "Usando Keras para crear las redes neuronales con modelo secuencial"
      ],
      "metadata": {
        "id": "qIEpyT5LCw_2"
      }
    },
    {
      "cell_type": "code",
      "source": [
        "capa = tf.keras.layers.Dense(units=1, input_shape=[1]);\n",
        "modelo = tf.keras.Sequential([capa]);"
      ],
      "metadata": {
        "id": "UUZ-CVU-Cks2"
      },
      "execution_count": 6,
      "outputs": []
    },
    {
      "cell_type": "markdown",
      "source": [
        "Definiendo procesos matematicos para el modelo\n",
        "- Un optimizador (equilibrando los pesos para que aprenda con la funcion Adam)\n",
        "- Una funcion de perdida.\n"
      ],
      "metadata": {
        "id": "m3KR_5RVDpe8"
      }
    },
    {
      "cell_type": "code",
      "source": [
        "modelo.compile(\n",
        "    optimizer = tf.keras.optimizers.Adam(0.1),\n",
        "    loss = \"mean_squared_error\"\n",
        ");"
      ],
      "metadata": {
        "id": "WY4aHaE3Ds30"
      },
      "execution_count": 7,
      "outputs": []
    },
    {
      "cell_type": "markdown",
      "source": [
        "Compilando el enrenamiento\n",
        "\n",
        "Para ello definimos el numero de vueltas con la funcion epochs."
      ],
      "metadata": {
        "id": "QDZ8En0REnwW"
      }
    },
    {
      "cell_type": "code",
      "source": [
        "print(\"Compilando entrenamiento del modelo\");\n",
        "historial = modelo.fit(celsius, fahrenheit, epochs=1000, verbose=False);\n",
        "print(\"El modelo ha sido entrenado\");"
      ],
      "metadata": {
        "colab": {
          "base_uri": "https://localhost:8080/"
        },
        "id": "88be8AyAEqxi",
        "outputId": "37bc0dfa-a83f-4e2f-fffe-fa6aa63c6fb8"
      },
      "execution_count": 8,
      "outputs": [
        {
          "output_type": "stream",
          "name": "stdout",
          "text": [
            "Compilando entrenamiento del modelo\n",
            "El modelo ha sido entrenado\n"
          ]
        }
      ]
    },
    {
      "cell_type": "markdown",
      "source": [
        "Vizualizar el resultado de la funcion de perdida con matplotlib"
      ],
      "metadata": {
        "id": "ywPkHLZmFmXR"
      }
    },
    {
      "cell_type": "code",
      "source": [
        "import matplotlib.pyplot as plt\n",
        "plt.xlabel(\"#epoca\");\n",
        "plt.ylabel(\"#Magnitud de perdida\");\n",
        "plt.plot(historial.history[\"loss\"]);"
      ],
      "metadata": {
        "colab": {
          "base_uri": "https://localhost:8080/",
          "height": 279
        },
        "id": "ZBNets5YFsl9",
        "outputId": "52dac124-472e-4e2e-8293-cb1a0061b82b"
      },
      "execution_count": 9,
      "outputs": [
        {
          "output_type": "display_data",
          "data": {
            "text/plain": [
              "<Figure size 432x288 with 1 Axes>"
            ],
            "image/png": "[encoded data removed]"
          },
          "metadata": {
            "needs_background": "light"
          }
        }
      ]
    },
    {
      "cell_type": "markdown",
      "source": [
        "Realizacion de una prediccion"
      ],
      "metadata": {
        "id": "FBEvcI5OGd5t"
      }
    },
    {
      "cell_type": "code",
      "source": [
        "print(\"Realicemos una prediccion\");\n",
        "resultado = modelo.predict([100]);\n",
        "print(\"El resultado es: \", resultado);"
      ],
      "metadata": {
        "colab": {
          "base_uri": "https://localhost:8080/"
        },
        "id": "Nj5rqoiRGgbm",
        "outputId": "d496063a-c1a2-46fa-d24b-2b961b95252b"
      },
      "execution_count": 10,
      "outputs": [
        {
          "output_type": "stream",
          "name": "stdout",
          "text": [
            "Realicemos una prediccion\n",
            "El resultado es:  [[211.7431]]\n"
          ]
        }
      ]
    },
    {
      "cell_type": "markdown",
      "source": [
        "Visualizamos las variables internas del modelo"
      ],
      "metadata": {
        "id": "63WUD68UHBK4"
      }
    },
    {
      "cell_type": "code",
      "source": [
        "print(\"Las variables internas del modelo son: \")\n",
        "print(capa.get_weights())"
      ],
      "metadata": {
        "colab": {
          "base_uri": "https://localhost:8080/"
        },
        "id": "Ne6bZmrNHGd2",
        "outputId": "f27dbca1-ec20-4cf2-cd45-dc79dc67f4b2"
      },
      "execution_count": 11,
      "outputs": [
        {
          "output_type": "stream",
          "name": "stdout",
          "text": [
            "Las variables internas del modelo son: \n",
            "[array([[1.7982031]], dtype=float32), array([31.922796], dtype=float32)]\n"
          ]
        }
      ]
    }
  ]
}